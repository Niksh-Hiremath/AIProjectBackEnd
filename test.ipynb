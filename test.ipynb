{
 "cells": [
  {
   "cell_type": "code",
   "execution_count": 14,
   "metadata": {},
   "outputs": [],
   "source": [
    "import requests\n",
    "import os\n",
    "from dotenv import load_dotenv\n",
    "import base64\n",
    "import numpy as np\n",
    "import cv2\n",
    "from uuid import uuid4\n",
    "from pathlib import Path\n",
    "from pymongo import MongoClient"
   ]
  },
  {
   "cell_type": "code",
   "execution_count": 2,
   "metadata": {},
   "outputs": [
    {
     "data": {
      "text/plain": [
       "True"
      ]
     },
     "execution_count": 2,
     "metadata": {},
     "output_type": "execute_result"
    }
   ],
   "source": [
    "load_dotenv()"
   ]
  },
  {
   "cell_type": "code",
   "execution_count": 3,
   "metadata": {},
   "outputs": [],
   "source": [
    "URL = \"http://localhost:8000/\"\n",
    "AUTHORIZATION_KEY = os.getenv(\"AUTHORIZATION_KEY\")"
   ]
  },
  {
   "cell_type": "code",
   "execution_count": 15,
   "metadata": {},
   "outputs": [],
   "source": [
    "mongo = MongoClient(os.getenv(\"MONGO\"))"
   ]
  },
  {
   "cell_type": "code",
   "execution_count": 18,
   "metadata": {},
   "outputs": [],
   "source": [
    "db = mongo.data.images"
   ]
  },
  {
   "cell_type": "code",
   "execution_count": 4,
   "metadata": {},
   "outputs": [],
   "source": [
    "def make_api_request(endpoint, method, data=None, session_id=None):\n",
    "    headers = {\"Authorization\": AUTHORIZATION_KEY}\n",
    "    if session_id:\n",
    "        headers[\"SessionId\"] = session_id\n",
    "\n",
    "    response = requests.request(method, URL + endpoint, headers=headers, json=data)\n",
    "    return response"
   ]
  },
  {
   "cell_type": "code",
   "execution_count": 12,
   "metadata": {},
   "outputs": [],
   "source": [
    "def process_image(image: str, show=True, save=False, name=None, path=\"uploaded_images\"):\n",
    "    header, base64_str = image.split(\",\", 1)\n",
    "    image_bytes = base64.b64decode(base64_str)\n",
    "    nparr = np.frombuffer(image_bytes, np.uint8)\n",
    "    im = cv2.imdecode(nparr, cv2.IMREAD_COLOR)\n",
    "\n",
    "    if im is None:\n",
    "        return \"Could not decode image\"\n",
    "\n",
    "    file_extension = header.split(\";\")[0].split(\"/\")[1]\n",
    "    filename = f\"{name if name else uuid4()}.{file_extension}\"\n",
    "    file_path = Path(path) / filename\n",
    "\n",
    "    if save:\n",
    "        cv2.imwrite(str(file_path), im)\n",
    "\n",
    "    if show:\n",
    "        cv2.imshow(\"Image\", im)\n",
    "        cv2.waitKey(0)\n",
    "        cv2.destroyAllWindows()"
   ]
  },
  {
   "cell_type": "code",
   "execution_count": 24,
   "metadata": {},
   "outputs": [
    {
     "data": {
      "text/plain": [
       "'0af39271-e1ce-42ca-be33-30e84ba5fe4e'"
      ]
     },
     "execution_count": 24,
     "metadata": {},
     "output_type": "execute_result"
    }
   ],
   "source": [
    "session_id = make_api_request(\"start\", \"PUT\").json()[\"SessionId\"]\n",
    "session_id"
   ]
  },
  {
   "cell_type": "code",
   "execution_count": 20,
   "metadata": {},
   "outputs": [],
   "source": [
    "image_data = db.find_one({\"count\": 3})[\"image\"]"
   ]
  },
  {
   "cell_type": "code",
   "execution_count": 22,
   "metadata": {},
   "outputs": [],
   "source": [
    "process_image(image_data)"
   ]
  },
  {
   "cell_type": "code",
   "execution_count": 25,
   "metadata": {},
   "outputs": [
    {
     "data": {
      "text/plain": [
       "<Response [200]>"
      ]
     },
     "execution_count": 25,
     "metadata": {},
     "output_type": "execute_result"
    }
   ],
   "source": [
    "res = make_api_request(\n",
    "    \"process\", \"POST\", data={\"imageData\": image_data}, session_id=session_id\n",
    ")\n",
    "res"
   ]
  },
  {
   "cell_type": "code",
   "execution_count": 26,
   "metadata": {},
   "outputs": [
    {
     "data": {
      "text/plain": [
       "<Response [200]>"
      ]
     },
     "execution_count": 26,
     "metadata": {},
     "output_type": "execute_result"
    }
   ],
   "source": [
    "make_api_request(\"stop\", \"DELETE\", session_id=session_id)"
   ]
  }
 ],
 "metadata": {
  "kernelspec": {
   "display_name": ".venv2",
   "language": "python",
   "name": "python3"
  },
  "language_info": {
   "codemirror_mode": {
    "name": "ipython",
    "version": 3
   },
   "file_extension": ".py",
   "mimetype": "text/x-python",
   "name": "python",
   "nbconvert_exporter": "python",
   "pygments_lexer": "ipython3",
   "version": "3.10.6"
  }
 },
 "nbformat": 4,
 "nbformat_minor": 2
}
